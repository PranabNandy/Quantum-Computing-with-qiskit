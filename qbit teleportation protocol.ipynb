{
 "cells": [
  {
   "cell_type": "code",
   "execution_count": 41,
   "metadata": {
    "ExecuteTime": {
     "end_time": "2021-01-15T18:07:55.582602Z",
     "start_time": "2021-01-15T18:07:55.579306Z"
    }
   },
   "outputs": [],
   "source": [
    "from qiskit import QuantumRegister, ClassicalRegister, Aer, execute, QuantumCircuit\n",
    "from qiskit.tools.visualization import plot_histogram"
   ]
  },
  {
   "cell_type": "code",
   "execution_count": 42,
   "metadata": {
    "ExecuteTime": {
     "end_time": "2021-01-15T18:07:56.005314Z",
     "start_time": "2021-01-15T18:07:55.995817Z"
    }
   },
   "outputs": [],
   "source": [
    "import math"
   ]
  },
  {
   "cell_type": "code",
   "execution_count": 43,
   "metadata": {
    "ExecuteTime": {
     "end_time": "2021-01-15T18:07:56.930601Z",
     "start_time": "2021-01-15T18:07:56.911254Z"
    }
   },
   "outputs": [],
   "source": [
    "S_simulator = Aer.get_backend(name='statevector_simulator')\n",
    "Q_simulator = Aer.get_backend(name='qasm_simulator')"
   ]
  },
  {
   "cell_type": "markdown",
   "metadata": {},
   "source": [
    "# Experiment"
   ]
  },
  {
   "cell_type": "markdown",
   "metadata": {},
   "source": [
    "## Alice wants to teleport her qbit to Bob, qbit_0 holds source info and belongs to Alice, qbit_1 also belongs to Alice and used for teleportation, qbit_2 is target bit, we want to teleport the info to and belongs to Bob"
   ]
  },
  {
   "cell_type": "code",
   "execution_count": 44,
   "metadata": {
    "ExecuteTime": {
     "end_time": "2021-01-15T18:07:58.810098Z",
     "start_time": "2021-01-15T18:07:58.795304Z"
    }
   },
   "outputs": [],
   "source": [
    "q = QuantumRegister(3)\n",
    "c = ClassicalRegister(3)"
   ]
  },
  {
   "cell_type": "markdown",
   "metadata": {},
   "source": [
    "# Circuit"
   ]
  },
  {
   "cell_type": "code",
   "execution_count": 66,
   "metadata": {
    "ExecuteTime": {
     "end_time": "2021-01-15T18:16:24.998466Z",
     "start_time": "2021-01-15T18:16:24.688997Z"
    },
    "scrolled": true
   },
   "outputs": [
    {
     "data": {
      "image/png": "[encoded data removed]",
      "text/plain": [
       "<Figure size 955.94x264.88 with 1 Axes>"
      ]
     },
     "execution_count": 66,
     "metadata": {},
     "output_type": "execute_result"
    }
   ],
   "source": [
    "ckt = QuantumCircuit(q,c)\n",
    "\n",
    "# init source q0\n",
    "ckt.initialize([math.sqrt(3)/2, 1/2], 0) \n",
    "# measure source q0 to c3\n",
    "# ckt.measure(q[0], c[3])\n",
    "\n",
    "# entangle q1 and q2\n",
    "ckt.h(q[1])\n",
    "ckt.cx(q[1], q[2])\n",
    "ckt.barrier()\n",
    "\n",
    "# CNOT q0 and q1\n",
    "ckt.cx(q[0], q[1])\n",
    "# change q0 basis\n",
    "ckt.h(q[0])\n",
    "ckt.barrier()\n",
    "\n",
    "# measure q0 and q1 to c0 and c1\n",
    "ckt.measure([q[0], q[1]], [c[0], c[1]])\n",
    "ckt.barrier()\n",
    "\n",
    "# measurement based operation to get source info to q2\n",
    "ckt.cx(q[1], q[2])\n",
    "ckt.cz(q[0], q[2])\n",
    "\n",
    "ckt.barrier()\n",
    "# measure target bit\n",
    "ckt.measure(q[2], c[2])\n",
    "\n",
    "ckt.draw(output = \"mpl\")"
   ]
  },
  {
   "cell_type": "markdown",
   "metadata": {},
   "source": [
    "# Here measurement of c3 is source info and c2 is target info, which we claim to be same, for any wave function of q0"
   ]
  },
  {
   "cell_type": "code",
   "execution_count": 65,
   "metadata": {
    "ExecuteTime": {
     "end_time": "2021-01-15T18:15:07.751741Z",
     "start_time": "2021-01-15T18:15:07.616893Z"
    }
   },
   "outputs": [
    {
     "data": {
      "image/png": "[encoded data removed]",
      "text/plain": [
       "<Figure size 504x360 with 1 Axes>"
      ]
     },
     "execution_count": 65,
     "metadata": {},
     "output_type": "execute_result"
    }
   ],
   "source": [
    "# Execute the circuit\n",
    "ex = execute(ckt, Q_simulator, shots = 1024)\n",
    "res = ex.result()\n",
    "bars = res.get_counts(ckt)\n",
    "\n",
    "# visualization\n",
    "# we are interested in c3 c2 only\n",
    "filtered_list = [[k[0], v] for k, v in bars.items()]\n",
    "newbars={}\n",
    "\n",
    "for k, v in filtered_list:\n",
    "    newbars[k] = newbars.get(k, 0) + v\n",
    "        \n",
    "# Plot the results\n",
    "plot_histogram(newbars, bar_labels=False)"
   ]
  },
  {
   "cell_type": "markdown",
   "metadata": {},
   "source": [
    "## Conclusions"
   ]
  },
  {
   "cell_type": "markdown",
   "metadata": {},
   "source": [
    "## So our q0 wave function is consistent with measurements of q2"
   ]
  },
  {
   "cell_type": "code",
   "execution_count": null,
   "metadata": {},
   "outputs": [],
   "source": []
  }
 ],
 "metadata": {
  "kernelspec": {
   "display_name": "qiskit",
   "language": "python",
   "name": "qiskit"
  },
  "language_info": {
   "codemirror_mode": {
    "name": "ipython",
    "version": 3
   },
   "file_extension": ".py",
   "mimetype": "text/x-python",
   "name": "python",
   "nbconvert_exporter": "python",
   "pygments_lexer": "ipython3",
   "version": "3.8.5"
  }
 },
 "nbformat": 4,
 "nbformat_minor": 4
}
