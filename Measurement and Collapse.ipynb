{
 "cells": [
  {
   "cell_type": "code",
   "execution_count": 2,
   "metadata": {
    "ExecuteTime": {
     "end_time": "2021-01-18T10:19:25.260522Z",
     "start_time": "2021-01-18T10:19:23.059127Z"
    }
   },
   "outputs": [],
   "source": [
    "from qiskit import QuantumRegister, ClassicalRegister, Aer, execute, QuantumCircuit\n",
    "from qiskit.tools.visualization import plot_histogram"
   ]
  },
  {
   "cell_type": "code",
   "execution_count": 3,
   "metadata": {
    "ExecuteTime": {
     "end_time": "2021-01-18T10:19:25.272857Z",
     "start_time": "2021-01-18T10:19:25.266539Z"
    }
   },
   "outputs": [],
   "source": [
    "import math, random"
   ]
  },
  {
   "cell_type": "code",
   "execution_count": 4,
   "metadata": {
    "ExecuteTime": {
     "end_time": "2021-01-18T10:19:25.521412Z",
     "start_time": "2021-01-18T10:19:25.277304Z"
    }
   },
   "outputs": [],
   "source": [
    "S_simulator = Aer.get_backend(name='statevector_simulator')\n",
    "Q_simulator = Aer.get_backend(name='qasm_simulator')"
   ]
  },
  {
   "cell_type": "markdown",
   "metadata": {},
   "source": [
    "# We will observe the effect of measurement on wave function of qbits"
   ]
  },
  {
   "cell_type": "markdown",
   "metadata": {},
   "source": [
    "# Circuit design"
   ]
  },
  {
   "cell_type": "code",
   "execution_count": 5,
   "metadata": {
    "ExecuteTime": {
     "end_time": "2021-01-18T10:19:25.609733Z",
     "start_time": "2021-01-18T10:19:25.524292Z"
    }
   },
   "outputs": [],
   "source": [
    "q = QuantumRegister(1)\n",
    "c = ClassicalRegister(2)"
   ]
  },
  {
   "cell_type": "markdown",
   "metadata": {},
   "source": [
    "# Circuit with no intermediate measurement"
   ]
  },
  {
   "cell_type": "code",
   "execution_count": 17,
   "metadata": {
    "ExecuteTime": {
     "end_time": "2021-01-18T10:33:14.543281Z",
     "start_time": "2021-01-18T10:33:14.409929Z"
    }
   },
   "outputs": [
    {
     "data": {
      "image/png": "[encoded data removed]",
      "text/plain": [
       "<Figure size 447.507x144.48 with 1 Axes>"
      ]
     },
     "execution_count": 17,
     "metadata": {},
     "output_type": "execute_result"
    }
   ],
   "source": [
    "ckt = QuantumCircuit(q,c)\n",
    "\n",
    "ckt.h(q[0])\n",
    "ckt.barrier()\n",
    "\n",
    "ckt.id(q[0])\n",
    "\n",
    "ckt.barrier()\n",
    "ckt.h(q[0])\n",
    "    \n",
    "ckt.measure(q[0], c[1])\n",
    "    \n",
    "ckt.draw(output = \"mpl\")\n"
   ]
  },
  {
   "cell_type": "markdown",
   "metadata": {},
   "source": [
    "# Circuit Simulation (only c1 is important to us)"
   ]
  },
  {
   "cell_type": "code",
   "execution_count": 18,
   "metadata": {
    "ExecuteTime": {
     "end_time": "2021-01-18T10:33:16.304976Z",
     "start_time": "2021-01-18T10:33:16.178944Z"
    }
   },
   "outputs": [
    {
     "data": {
      "image/png": "[encoded data removed]",
      "text/plain": [
       "<Figure size 504x360 with 1 Axes>"
      ]
     },
     "execution_count": 18,
     "metadata": {},
     "output_type": "execute_result"
    }
   ],
   "source": [
    "# Execute the circuit\n",
    "ex = execute(ckt, Q_simulator, shots = 1024)\n",
    "res = ex.result()\n",
    "bars = res.get_counts(ckt)\n",
    "\n",
    "# visualization\n",
    "# we are interested in c1 only\n",
    "filtered_list = [[k[1], v] for k, v in bars.items()]\n",
    "newbars={}\n",
    "\n",
    "for k, v in filtered_list:\n",
    "    newbars[k] = newbars.get(k, 0) + v\n",
    "\n",
    "        \n",
    "# Plot the results\n",
    "plot_histogram(newbars, bar_labels=False)"
   ]
  },
  {
   "cell_type": "markdown",
   "metadata": {},
   "source": [
    "# Circuit with intermediate measurement"
   ]
  },
  {
   "cell_type": "code",
   "execution_count": 19,
   "metadata": {
    "ExecuteTime": {
     "end_time": "2021-01-18T10:33:18.391218Z",
     "start_time": "2021-01-18T10:33:18.256812Z"
    }
   },
   "outputs": [
    {
     "data": {
      "image/png": "[encoded data removed]",
      "text/plain": [
       "<Figure size 447.507x144.48 with 1 Axes>"
      ]
     },
     "execution_count": 19,
     "metadata": {},
     "output_type": "execute_result"
    }
   ],
   "source": [
    "ckt = QuantumCircuit(q,c)\n",
    "\n",
    "ckt.h(q[0])\n",
    "ckt.barrier()\n",
    "\n",
    "ckt.measure(q[0], c[0])\n",
    "\n",
    "ckt.barrier()\n",
    "ckt.h(q[0])\n",
    "    \n",
    "ckt.measure(q[0], c[1])\n",
    "    \n",
    "ckt.draw(output = \"mpl\")"
   ]
  },
  {
   "cell_type": "markdown",
   "metadata": {},
   "source": [
    "# Circuit Simulation (only c1 is important to us)"
   ]
  },
  {
   "cell_type": "code",
   "execution_count": 20,
   "metadata": {
    "ExecuteTime": {
     "end_time": "2021-01-18T10:33:19.486122Z",
     "start_time": "2021-01-18T10:33:19.291298Z"
    }
   },
   "outputs": [
    {
     "data": {
      "image/png": "[encoded data removed]",
      "text/plain": [
       "<Figure size 504x360 with 1 Axes>"
      ]
     },
     "execution_count": 20,
     "metadata": {},
     "output_type": "execute_result"
    }
   ],
   "source": [
    "# Execute the circuit\n",
    "ex = execute(ckt, Q_simulator, shots = 1024)\n",
    "res = ex.result()\n",
    "bars = res.get_counts(ckt)\n",
    "\n",
    "# visualization\n",
    "# we are interested in c1 only\n",
    "filtered_list = [[k[1], v] for k, v in bars.items()]\n",
    "newbars={}\n",
    "\n",
    "for k, v in filtered_list:\n",
    "    newbars[k] = newbars.get(k, 0) + v\n",
    "\n",
    "        \n",
    "# Plot the results\n",
    "plot_histogram(newbars, bar_labels=False)"
   ]
  },
  {
   "cell_type": "markdown",
   "metadata": {},
   "source": [
    "# BAM! Cool huh! ( if you don't think so read the explanation below)"
   ]
  },
  {
   "cell_type": "markdown",
   "metadata": {},
   "source": [
    "# Hadmard gates are reversible and if applied twice on  a state, returns the same initial state\n",
    "\n",
    "## When there is no measurement between the hadmard gates, the above law holds good. The qbit was initialized with 0 and we get back 0 all the times as measurement\n",
    "\n",
    "## However when there is a measurent of the qubit after the first hadmard, the bit is no more in a superposition but it is a collapsed state: (0 or 1). So a second hadmard gate on this gives a superposed state only, so output is 50% times 1 and 50% times 0"
   ]
  },
  {
   "cell_type": "code",
   "execution_count": null,
   "metadata": {},
   "outputs": [],
   "source": []
  }
 ],
 "metadata": {
  "kernelspec": {
   "display_name": "qiskit",
   "language": "python",
   "name": "qiskit"
  },
  "language_info": {
   "codemirror_mode": {
    "name": "ipython",
    "version": 3
   },
   "file_extension": ".py",
   "mimetype": "text/x-python",
   "name": "python",
   "nbconvert_exporter": "python",
   "pygments_lexer": "ipython3",
   "version": "3.8.5"
  }
 },
 "nbformat": 4,
 "nbformat_minor": 4
}
